{
 "cells": [
  {
   "cell_type": "code",
   "execution_count": 1,
   "id": "83d484e2",
   "metadata": {
    "_cell_guid": "b1076dfc-b9ad-4769-8c92-a6c4dae69d19",
    "_uuid": "8f2839f25d086af736a60e9eeb907d3b93b6e0e5",
    "execution": {
     "iopub.execute_input": "2024-11-24T06:29:37.003756Z",
     "iopub.status.busy": "2024-11-24T06:29:37.003229Z",
     "iopub.status.idle": "2024-11-24T06:29:37.819225Z",
     "shell.execute_reply": "2024-11-24T06:29:37.817735Z"
    },
    "papermill": {
     "duration": 0.826839,
     "end_time": "2024-11-24T06:29:37.821546",
     "exception": false,
     "start_time": "2024-11-24T06:29:36.994707",
     "status": "completed"
    },
    "tags": []
   },
   "outputs": [
    {
     "name": "stdout",
     "output_type": "stream",
     "text": [
      "/kaggle/input/depression-professional-dataset/Depression Professional Dataset.csv\n"
     ]
    }
   ],
   "source": [
    "# This Python 3 environment comes with many helpful analytics libraries installed\n",
    "# It is defined by the kaggle/python Docker image: https://github.com/kaggle/docker-python\n",
    "# For example, here's several helpful packages to load\n",
    "\n",
    "import numpy as np # linear algebra\n",
    "import pandas as pd # data processing, CSV file I/O (e.g. pd.read_csv)\n",
    "\n",
    "# Input data files are available in the read-only \"../input/\" directory\n",
    "# For example, running this (by clicking run or pressing Shift+Enter) will list all files under the input directory\n",
    "\n",
    "import os\n",
    "for dirname, _, filenames in os.walk('/kaggle/input'):\n",
    "    for filename in filenames:\n",
    "        print(os.path.join(dirname, filename))\n",
    "\n",
    "# You can write up to 20GB to the current directory (/kaggle/working/) that gets preserved as output when you create a version using \"Save & Run All\" \n",
    "# You can also write temporary files to /kaggle/temp/, but they won't be saved outside of the current session"
   ]
  },
  {
   "cell_type": "code",
   "execution_count": 2,
   "id": "39763343",
   "metadata": {
    "execution": {
     "iopub.execute_input": "2024-11-24T06:29:37.836080Z",
     "iopub.status.busy": "2024-11-24T06:29:37.835161Z",
     "iopub.status.idle": "2024-11-24T06:29:39.831145Z",
     "shell.execute_reply": "2024-11-24T06:29:39.830071Z"
    },
    "papermill": {
     "duration": 2.005306,
     "end_time": "2024-11-24T06:29:39.833288",
     "exception": false,
     "start_time": "2024-11-24T06:29:37.827982",
     "status": "completed"
    },
    "tags": []
   },
   "outputs": [
    {
     "data": {
      "text/html": [
       "<div>\n",
       "<style scoped>\n",
       "    .dataframe tbody tr th:only-of-type {\n",
       "        vertical-align: middle;\n",
       "    }\n",
       "\n",
       "    .dataframe tbody tr th {\n",
       "        vertical-align: top;\n",
       "    }\n",
       "\n",
       "    .dataframe thead th {\n",
       "        text-align: right;\n",
       "    }\n",
       "</style>\n",
       "<table border=\"1\" class=\"dataframe\">\n",
       "  <thead>\n",
       "    <tr style=\"text-align: right;\">\n",
       "      <th></th>\n",
       "      <th>Gender</th>\n",
       "      <th>Age</th>\n",
       "      <th>Work Pressure</th>\n",
       "      <th>Job Satisfaction</th>\n",
       "      <th>Sleep Duration</th>\n",
       "      <th>Dietary Habits</th>\n",
       "      <th>Have you ever had suicidal thoughts ?</th>\n",
       "      <th>Work Hours</th>\n",
       "      <th>Financial Stress</th>\n",
       "      <th>Family History of Mental Illness</th>\n",
       "      <th>Depression</th>\n",
       "    </tr>\n",
       "  </thead>\n",
       "  <tbody>\n",
       "    <tr>\n",
       "      <th>0</th>\n",
       "      <td>Female</td>\n",
       "      <td>37</td>\n",
       "      <td>2.0</td>\n",
       "      <td>4.0</td>\n",
       "      <td>7-8 hours</td>\n",
       "      <td>Moderate</td>\n",
       "      <td>No</td>\n",
       "      <td>6</td>\n",
       "      <td>2</td>\n",
       "      <td>No</td>\n",
       "      <td>No</td>\n",
       "    </tr>\n",
       "    <tr>\n",
       "      <th>1</th>\n",
       "      <td>Male</td>\n",
       "      <td>60</td>\n",
       "      <td>4.0</td>\n",
       "      <td>3.0</td>\n",
       "      <td>5-6 hours</td>\n",
       "      <td>Unhealthy</td>\n",
       "      <td>Yes</td>\n",
       "      <td>0</td>\n",
       "      <td>4</td>\n",
       "      <td>Yes</td>\n",
       "      <td>No</td>\n",
       "    </tr>\n",
       "    <tr>\n",
       "      <th>2</th>\n",
       "      <td>Female</td>\n",
       "      <td>42</td>\n",
       "      <td>2.0</td>\n",
       "      <td>3.0</td>\n",
       "      <td>5-6 hours</td>\n",
       "      <td>Moderate</td>\n",
       "      <td>No</td>\n",
       "      <td>0</td>\n",
       "      <td>2</td>\n",
       "      <td>No</td>\n",
       "      <td>No</td>\n",
       "    </tr>\n",
       "    <tr>\n",
       "      <th>3</th>\n",
       "      <td>Female</td>\n",
       "      <td>44</td>\n",
       "      <td>3.0</td>\n",
       "      <td>5.0</td>\n",
       "      <td>7-8 hours</td>\n",
       "      <td>Healthy</td>\n",
       "      <td>Yes</td>\n",
       "      <td>1</td>\n",
       "      <td>2</td>\n",
       "      <td>Yes</td>\n",
       "      <td>No</td>\n",
       "    </tr>\n",
       "    <tr>\n",
       "      <th>4</th>\n",
       "      <td>Male</td>\n",
       "      <td>48</td>\n",
       "      <td>4.0</td>\n",
       "      <td>3.0</td>\n",
       "      <td>7-8 hours</td>\n",
       "      <td>Moderate</td>\n",
       "      <td>Yes</td>\n",
       "      <td>6</td>\n",
       "      <td>5</td>\n",
       "      <td>Yes</td>\n",
       "      <td>No</td>\n",
       "    </tr>\n",
       "    <tr>\n",
       "      <th>...</th>\n",
       "      <td>...</td>\n",
       "      <td>...</td>\n",
       "      <td>...</td>\n",
       "      <td>...</td>\n",
       "      <td>...</td>\n",
       "      <td>...</td>\n",
       "      <td>...</td>\n",
       "      <td>...</td>\n",
       "      <td>...</td>\n",
       "      <td>...</td>\n",
       "      <td>...</td>\n",
       "    </tr>\n",
       "    <tr>\n",
       "      <th>2049</th>\n",
       "      <td>Female</td>\n",
       "      <td>45</td>\n",
       "      <td>1.0</td>\n",
       "      <td>3.0</td>\n",
       "      <td>Less than 5 hours</td>\n",
       "      <td>Healthy</td>\n",
       "      <td>Yes</td>\n",
       "      <td>2</td>\n",
       "      <td>5</td>\n",
       "      <td>Yes</td>\n",
       "      <td>No</td>\n",
       "    </tr>\n",
       "    <tr>\n",
       "      <th>2050</th>\n",
       "      <td>Male</td>\n",
       "      <td>25</td>\n",
       "      <td>1.0</td>\n",
       "      <td>5.0</td>\n",
       "      <td>5-6 hours</td>\n",
       "      <td>Healthy</td>\n",
       "      <td>Yes</td>\n",
       "      <td>12</td>\n",
       "      <td>3</td>\n",
       "      <td>Yes</td>\n",
       "      <td>No</td>\n",
       "    </tr>\n",
       "    <tr>\n",
       "      <th>2051</th>\n",
       "      <td>Female</td>\n",
       "      <td>23</td>\n",
       "      <td>3.0</td>\n",
       "      <td>1.0</td>\n",
       "      <td>Less than 5 hours</td>\n",
       "      <td>Moderate</td>\n",
       "      <td>Yes</td>\n",
       "      <td>8</td>\n",
       "      <td>3</td>\n",
       "      <td>No</td>\n",
       "      <td>Yes</td>\n",
       "    </tr>\n",
       "    <tr>\n",
       "      <th>2052</th>\n",
       "      <td>Female</td>\n",
       "      <td>24</td>\n",
       "      <td>1.0</td>\n",
       "      <td>4.0</td>\n",
       "      <td>Less than 5 hours</td>\n",
       "      <td>Moderate</td>\n",
       "      <td>Yes</td>\n",
       "      <td>4</td>\n",
       "      <td>4</td>\n",
       "      <td>No</td>\n",
       "      <td>No</td>\n",
       "    </tr>\n",
       "    <tr>\n",
       "      <th>2053</th>\n",
       "      <td>Female</td>\n",
       "      <td>56</td>\n",
       "      <td>2.0</td>\n",
       "      <td>3.0</td>\n",
       "      <td>7-8 hours</td>\n",
       "      <td>Healthy</td>\n",
       "      <td>No</td>\n",
       "      <td>4</td>\n",
       "      <td>5</td>\n",
       "      <td>Yes</td>\n",
       "      <td>No</td>\n",
       "    </tr>\n",
       "  </tbody>\n",
       "</table>\n",
       "<p>2054 rows × 11 columns</p>\n",
       "</div>"
      ],
      "text/plain": [
       "      Gender  Age  Work Pressure  Job Satisfaction     Sleep Duration  \\\n",
       "0     Female   37            2.0               4.0          7-8 hours   \n",
       "1       Male   60            4.0               3.0          5-6 hours   \n",
       "2     Female   42            2.0               3.0          5-6 hours   \n",
       "3     Female   44            3.0               5.0          7-8 hours   \n",
       "4       Male   48            4.0               3.0          7-8 hours   \n",
       "...      ...  ...            ...               ...                ...   \n",
       "2049  Female   45            1.0               3.0  Less than 5 hours   \n",
       "2050    Male   25            1.0               5.0          5-6 hours   \n",
       "2051  Female   23            3.0               1.0  Less than 5 hours   \n",
       "2052  Female   24            1.0               4.0  Less than 5 hours   \n",
       "2053  Female   56            2.0               3.0          7-8 hours   \n",
       "\n",
       "     Dietary Habits Have you ever had suicidal thoughts ?  Work Hours  \\\n",
       "0          Moderate                                    No           6   \n",
       "1         Unhealthy                                   Yes           0   \n",
       "2          Moderate                                    No           0   \n",
       "3           Healthy                                   Yes           1   \n",
       "4          Moderate                                   Yes           6   \n",
       "...             ...                                   ...         ...   \n",
       "2049        Healthy                                   Yes           2   \n",
       "2050        Healthy                                   Yes          12   \n",
       "2051       Moderate                                   Yes           8   \n",
       "2052       Moderate                                   Yes           4   \n",
       "2053        Healthy                                    No           4   \n",
       "\n",
       "      Financial Stress Family History of Mental Illness Depression  \n",
       "0                    2                               No         No  \n",
       "1                    4                              Yes         No  \n",
       "2                    2                               No         No  \n",
       "3                    2                              Yes         No  \n",
       "4                    5                              Yes         No  \n",
       "...                ...                              ...        ...  \n",
       "2049                 5                              Yes         No  \n",
       "2050                 3                              Yes         No  \n",
       "2051                 3                               No        Yes  \n",
       "2052                 4                               No         No  \n",
       "2053                 5                              Yes         No  \n",
       "\n",
       "[2054 rows x 11 columns]"
      ]
     },
     "execution_count": 2,
     "metadata": {},
     "output_type": "execute_result"
    }
   ],
   "source": [
    "import matplotlib.pyplot as plt\n",
    "from sklearn.model_selection import train_test_split\n",
    "from sklearn.metrics import confusion_matrix, accuracy_score, classification_report\n",
    "from sklearn.neighbors import KNeighborsClassifier\n",
    "from sklearn.preprocessing import MinMaxScaler\n",
    "import seaborn as sns\n",
    "\n",
    "df = pd.read_csv('/kaggle/input/depression-professional-dataset/Depression Professional Dataset.csv')\n",
    "\n",
    "df"
   ]
  },
  {
   "cell_type": "markdown",
   "id": "e6a4aac3",
   "metadata": {
    "papermill": {
     "duration": 0.006134,
     "end_time": "2024-11-24T06:29:39.846041",
     "exception": false,
     "start_time": "2024-11-24T06:29:39.839907",
     "status": "completed"
    },
    "tags": []
   },
   "source": [
    "1. Data Understanding"
   ]
  },
  {
   "cell_type": "code",
   "execution_count": 3,
   "id": "8cfe1e82",
   "metadata": {
    "execution": {
     "iopub.execute_input": "2024-11-24T06:29:39.860422Z",
     "iopub.status.busy": "2024-11-24T06:29:39.860049Z",
     "iopub.status.idle": "2024-11-24T06:29:39.865416Z",
     "shell.execute_reply": "2024-11-24T06:29:39.864428Z"
    },
    "papermill": {
     "duration": 0.015167,
     "end_time": "2024-11-24T06:29:39.867708",
     "exception": false,
     "start_time": "2024-11-24T06:29:39.852541",
     "status": "completed"
    },
    "tags": []
   },
   "outputs": [
    {
     "name": "stdout",
     "output_type": "stream",
     "text": [
      "data shape:  (2054, 11)\n"
     ]
    }
   ],
   "source": [
    "print(\"data shape: \", df.shape)"
   ]
  },
  {
   "cell_type": "code",
   "execution_count": 4,
   "id": "c75b7e6a",
   "metadata": {
    "execution": {
     "iopub.execute_input": "2024-11-24T06:29:39.883267Z",
     "iopub.status.busy": "2024-11-24T06:29:39.882904Z",
     "iopub.status.idle": "2024-11-24T06:29:39.905097Z",
     "shell.execute_reply": "2024-11-24T06:29:39.903999Z"
    },
    "papermill": {
     "duration": 0.031862,
     "end_time": "2024-11-24T06:29:39.907248",
     "exception": false,
     "start_time": "2024-11-24T06:29:39.875386",
     "status": "completed"
    },
    "tags": []
   },
   "outputs": [
    {
     "name": "stdout",
     "output_type": "stream",
     "text": [
      "<class 'pandas.core.frame.DataFrame'>\n",
      "RangeIndex: 2054 entries, 0 to 2053\n",
      "Data columns (total 11 columns):\n",
      " #   Column                                 Non-Null Count  Dtype  \n",
      "---  ------                                 --------------  -----  \n",
      " 0   Gender                                 2054 non-null   object \n",
      " 1   Age                                    2054 non-null   int64  \n",
      " 2   Work Pressure                          2054 non-null   float64\n",
      " 3   Job Satisfaction                       2054 non-null   float64\n",
      " 4   Sleep Duration                         2054 non-null   object \n",
      " 5   Dietary Habits                         2054 non-null   object \n",
      " 6   Have you ever had suicidal thoughts ?  2054 non-null   object \n",
      " 7   Work Hours                             2054 non-null   int64  \n",
      " 8   Financial Stress                       2054 non-null   int64  \n",
      " 9   Family History of Mental Illness       2054 non-null   object \n",
      " 10  Depression                             2054 non-null   object \n",
      "dtypes: float64(2), int64(3), object(6)\n",
      "memory usage: 176.6+ KB\n"
     ]
    }
   ],
   "source": [
    "df.info()"
   ]
  },
  {
   "cell_type": "code",
   "execution_count": 5,
   "id": "3ccd7680",
   "metadata": {
    "execution": {
     "iopub.execute_input": "2024-11-24T06:29:39.921727Z",
     "iopub.status.busy": "2024-11-24T06:29:39.921349Z",
     "iopub.status.idle": "2024-11-24T06:29:39.945805Z",
     "shell.execute_reply": "2024-11-24T06:29:39.944394Z"
    },
    "papermill": {
     "duration": 0.033991,
     "end_time": "2024-11-24T06:29:39.947913",
     "exception": false,
     "start_time": "2024-11-24T06:29:39.913922",
     "status": "completed"
    },
    "tags": []
   },
   "outputs": [
    {
     "data": {
      "text/html": [
       "<div>\n",
       "<style scoped>\n",
       "    .dataframe tbody tr th:only-of-type {\n",
       "        vertical-align: middle;\n",
       "    }\n",
       "\n",
       "    .dataframe tbody tr th {\n",
       "        vertical-align: top;\n",
       "    }\n",
       "\n",
       "    .dataframe thead th {\n",
       "        text-align: right;\n",
       "    }\n",
       "</style>\n",
       "<table border=\"1\" class=\"dataframe\">\n",
       "  <thead>\n",
       "    <tr style=\"text-align: right;\">\n",
       "      <th></th>\n",
       "      <th>Age</th>\n",
       "      <th>Work Pressure</th>\n",
       "      <th>Job Satisfaction</th>\n",
       "      <th>Work Hours</th>\n",
       "      <th>Financial Stress</th>\n",
       "    </tr>\n",
       "  </thead>\n",
       "  <tbody>\n",
       "    <tr>\n",
       "      <th>count</th>\n",
       "      <td>2054.000000</td>\n",
       "      <td>2054.000000</td>\n",
       "      <td>2054.000000</td>\n",
       "      <td>2054.000000</td>\n",
       "      <td>2054.000000</td>\n",
       "    </tr>\n",
       "    <tr>\n",
       "      <th>mean</th>\n",
       "      <td>42.171860</td>\n",
       "      <td>3.021908</td>\n",
       "      <td>3.015093</td>\n",
       "      <td>5.930867</td>\n",
       "      <td>2.978578</td>\n",
       "    </tr>\n",
       "    <tr>\n",
       "      <th>std</th>\n",
       "      <td>11.461202</td>\n",
       "      <td>1.417312</td>\n",
       "      <td>1.418432</td>\n",
       "      <td>3.773945</td>\n",
       "      <td>1.413362</td>\n",
       "    </tr>\n",
       "    <tr>\n",
       "      <th>min</th>\n",
       "      <td>18.000000</td>\n",
       "      <td>1.000000</td>\n",
       "      <td>1.000000</td>\n",
       "      <td>0.000000</td>\n",
       "      <td>1.000000</td>\n",
       "    </tr>\n",
       "    <tr>\n",
       "      <th>25%</th>\n",
       "      <td>35.000000</td>\n",
       "      <td>2.000000</td>\n",
       "      <td>2.000000</td>\n",
       "      <td>3.000000</td>\n",
       "      <td>2.000000</td>\n",
       "    </tr>\n",
       "    <tr>\n",
       "      <th>50%</th>\n",
       "      <td>43.000000</td>\n",
       "      <td>3.000000</td>\n",
       "      <td>3.000000</td>\n",
       "      <td>6.000000</td>\n",
       "      <td>3.000000</td>\n",
       "    </tr>\n",
       "    <tr>\n",
       "      <th>75%</th>\n",
       "      <td>51.750000</td>\n",
       "      <td>4.000000</td>\n",
       "      <td>4.000000</td>\n",
       "      <td>9.000000</td>\n",
       "      <td>4.000000</td>\n",
       "    </tr>\n",
       "    <tr>\n",
       "      <th>max</th>\n",
       "      <td>60.000000</td>\n",
       "      <td>5.000000</td>\n",
       "      <td>5.000000</td>\n",
       "      <td>12.000000</td>\n",
       "      <td>5.000000</td>\n",
       "    </tr>\n",
       "  </tbody>\n",
       "</table>\n",
       "</div>"
      ],
      "text/plain": [
       "               Age  Work Pressure  Job Satisfaction   Work Hours  \\\n",
       "count  2054.000000    2054.000000       2054.000000  2054.000000   \n",
       "mean     42.171860       3.021908          3.015093     5.930867   \n",
       "std      11.461202       1.417312          1.418432     3.773945   \n",
       "min      18.000000       1.000000          1.000000     0.000000   \n",
       "25%      35.000000       2.000000          2.000000     3.000000   \n",
       "50%      43.000000       3.000000          3.000000     6.000000   \n",
       "75%      51.750000       4.000000          4.000000     9.000000   \n",
       "max      60.000000       5.000000          5.000000    12.000000   \n",
       "\n",
       "       Financial Stress  \n",
       "count       2054.000000  \n",
       "mean           2.978578  \n",
       "std            1.413362  \n",
       "min            1.000000  \n",
       "25%            2.000000  \n",
       "50%            3.000000  \n",
       "75%            4.000000  \n",
       "max            5.000000  "
      ]
     },
     "execution_count": 5,
     "metadata": {},
     "output_type": "execute_result"
    }
   ],
   "source": [
    "df.describe()"
   ]
  },
  {
   "cell_type": "code",
   "execution_count": 6,
   "id": "071dc0a3",
   "metadata": {
    "execution": {
     "iopub.execute_input": "2024-11-24T06:29:39.963441Z",
     "iopub.status.busy": "2024-11-24T06:29:39.963060Z",
     "iopub.status.idle": "2024-11-24T06:29:39.970884Z",
     "shell.execute_reply": "2024-11-24T06:29:39.969954Z"
    },
    "papermill": {
     "duration": 0.017602,
     "end_time": "2024-11-24T06:29:39.972805",
     "exception": false,
     "start_time": "2024-11-24T06:29:39.955203",
     "status": "completed"
    },
    "tags": []
   },
   "outputs": [
    {
     "data": {
      "text/plain": [
       "Depression\n",
       "No     1851\n",
       "Yes     203\n",
       "Name: count, dtype: int64"
      ]
     },
     "execution_count": 6,
     "metadata": {},
     "output_type": "execute_result"
    }
   ],
   "source": [
    "df.Depression.value_counts()"
   ]
  },
  {
   "cell_type": "code",
   "execution_count": 7,
   "id": "2d76de8c",
   "metadata": {
    "execution": {
     "iopub.execute_input": "2024-11-24T06:29:39.987824Z",
     "iopub.status.busy": "2024-11-24T06:29:39.987402Z",
     "iopub.status.idle": "2024-11-24T06:29:39.995878Z",
     "shell.execute_reply": "2024-11-24T06:29:39.994842Z"
    },
    "papermill": {
     "duration": 0.018238,
     "end_time": "2024-11-24T06:29:39.997960",
     "exception": false,
     "start_time": "2024-11-24T06:29:39.979722",
     "status": "completed"
    },
    "tags": []
   },
   "outputs": [
    {
     "data": {
      "text/plain": [
       "Gender\n",
       "Male      1066\n",
       "Female     988\n",
       "Name: count, dtype: int64"
      ]
     },
     "execution_count": 7,
     "metadata": {},
     "output_type": "execute_result"
    }
   ],
   "source": [
    "df.Gender.value_counts()"
   ]
  },
  {
   "cell_type": "code",
   "execution_count": 8,
   "id": "44d4e27f",
   "metadata": {
    "execution": {
     "iopub.execute_input": "2024-11-24T06:29:40.013894Z",
     "iopub.status.busy": "2024-11-24T06:29:40.013516Z",
     "iopub.status.idle": "2024-11-24T06:29:40.019805Z",
     "shell.execute_reply": "2024-11-24T06:29:40.018715Z"
    },
    "papermill": {
     "duration": 0.016653,
     "end_time": "2024-11-24T06:29:40.021686",
     "exception": false,
     "start_time": "2024-11-24T06:29:40.005033",
     "status": "completed"
    },
    "tags": []
   },
   "outputs": [
    {
     "name": "stdout",
     "output_type": "stream",
     "text": [
      "Index(['Gender', 'Age', 'Work_Pressure', 'Job_Satisfaction', 'Sleep_Duration',\n",
      "       'Dietary_Habits', 'Have_you_ever_had_suicidal_thoughts_?', 'Work_Hours',\n",
      "       'Financial_Stress', 'Family_History_of_Mental_Illness', 'Depression'],\n",
      "      dtype='object')\n"
     ]
    }
   ],
   "source": [
    "df.columns = df.columns.str.replace(' ', '_')\n",
    "print(df.columns)"
   ]
  },
  {
   "cell_type": "code",
   "execution_count": 9,
   "id": "23d11618",
   "metadata": {
    "execution": {
     "iopub.execute_input": "2024-11-24T06:29:40.037404Z",
     "iopub.status.busy": "2024-11-24T06:29:40.036484Z",
     "iopub.status.idle": "2024-11-24T06:29:40.052955Z",
     "shell.execute_reply": "2024-11-24T06:29:40.051947Z"
    },
    "papermill": {
     "duration": 0.026305,
     "end_time": "2024-11-24T06:29:40.054878",
     "exception": false,
     "start_time": "2024-11-24T06:29:40.028573",
     "status": "completed"
    },
    "tags": []
   },
   "outputs": [
    {
     "data": {
      "text/html": [
       "<div>\n",
       "<style scoped>\n",
       "    .dataframe tbody tr th:only-of-type {\n",
       "        vertical-align: middle;\n",
       "    }\n",
       "\n",
       "    .dataframe tbody tr th {\n",
       "        vertical-align: top;\n",
       "    }\n",
       "\n",
       "    .dataframe thead th {\n",
       "        text-align: right;\n",
       "    }\n",
       "</style>\n",
       "<table border=\"1\" class=\"dataframe\">\n",
       "  <thead>\n",
       "    <tr style=\"text-align: right;\">\n",
       "      <th></th>\n",
       "      <th>Gender</th>\n",
       "      <th>Age</th>\n",
       "      <th>Work_Pressure</th>\n",
       "      <th>Job_Satisfaction</th>\n",
       "      <th>Sleep_Duration</th>\n",
       "      <th>Dietary_Habits</th>\n",
       "      <th>Have_you_ever_had_suicidal_thoughts_?</th>\n",
       "      <th>Work_Hours</th>\n",
       "      <th>Financial_Stress</th>\n",
       "      <th>Family_History_of_Mental_Illness</th>\n",
       "      <th>Depression</th>\n",
       "    </tr>\n",
       "  </thead>\n",
       "  <tbody>\n",
       "    <tr>\n",
       "      <th>0</th>\n",
       "      <td>Female</td>\n",
       "      <td>37</td>\n",
       "      <td>2.0</td>\n",
       "      <td>4.0</td>\n",
       "      <td>7-8 hours</td>\n",
       "      <td>Moderate</td>\n",
       "      <td>No</td>\n",
       "      <td>6</td>\n",
       "      <td>2</td>\n",
       "      <td>No</td>\n",
       "      <td>No</td>\n",
       "    </tr>\n",
       "    <tr>\n",
       "      <th>1</th>\n",
       "      <td>Male</td>\n",
       "      <td>60</td>\n",
       "      <td>4.0</td>\n",
       "      <td>3.0</td>\n",
       "      <td>5-6 hours</td>\n",
       "      <td>Unhealthy</td>\n",
       "      <td>Yes</td>\n",
       "      <td>0</td>\n",
       "      <td>4</td>\n",
       "      <td>Yes</td>\n",
       "      <td>No</td>\n",
       "    </tr>\n",
       "    <tr>\n",
       "      <th>2</th>\n",
       "      <td>Female</td>\n",
       "      <td>42</td>\n",
       "      <td>2.0</td>\n",
       "      <td>3.0</td>\n",
       "      <td>5-6 hours</td>\n",
       "      <td>Moderate</td>\n",
       "      <td>No</td>\n",
       "      <td>0</td>\n",
       "      <td>2</td>\n",
       "      <td>No</td>\n",
       "      <td>No</td>\n",
       "    </tr>\n",
       "    <tr>\n",
       "      <th>3</th>\n",
       "      <td>Female</td>\n",
       "      <td>44</td>\n",
       "      <td>3.0</td>\n",
       "      <td>5.0</td>\n",
       "      <td>7-8 hours</td>\n",
       "      <td>Healthy</td>\n",
       "      <td>Yes</td>\n",
       "      <td>1</td>\n",
       "      <td>2</td>\n",
       "      <td>Yes</td>\n",
       "      <td>No</td>\n",
       "    </tr>\n",
       "    <tr>\n",
       "      <th>4</th>\n",
       "      <td>Male</td>\n",
       "      <td>48</td>\n",
       "      <td>4.0</td>\n",
       "      <td>3.0</td>\n",
       "      <td>7-8 hours</td>\n",
       "      <td>Moderate</td>\n",
       "      <td>Yes</td>\n",
       "      <td>6</td>\n",
       "      <td>5</td>\n",
       "      <td>Yes</td>\n",
       "      <td>No</td>\n",
       "    </tr>\n",
       "    <tr>\n",
       "      <th>...</th>\n",
       "      <td>...</td>\n",
       "      <td>...</td>\n",
       "      <td>...</td>\n",
       "      <td>...</td>\n",
       "      <td>...</td>\n",
       "      <td>...</td>\n",
       "      <td>...</td>\n",
       "      <td>...</td>\n",
       "      <td>...</td>\n",
       "      <td>...</td>\n",
       "      <td>...</td>\n",
       "    </tr>\n",
       "    <tr>\n",
       "      <th>2049</th>\n",
       "      <td>Female</td>\n",
       "      <td>45</td>\n",
       "      <td>1.0</td>\n",
       "      <td>3.0</td>\n",
       "      <td>Less than 5 hours</td>\n",
       "      <td>Healthy</td>\n",
       "      <td>Yes</td>\n",
       "      <td>2</td>\n",
       "      <td>5</td>\n",
       "      <td>Yes</td>\n",
       "      <td>No</td>\n",
       "    </tr>\n",
       "    <tr>\n",
       "      <th>2050</th>\n",
       "      <td>Male</td>\n",
       "      <td>25</td>\n",
       "      <td>1.0</td>\n",
       "      <td>5.0</td>\n",
       "      <td>5-6 hours</td>\n",
       "      <td>Healthy</td>\n",
       "      <td>Yes</td>\n",
       "      <td>12</td>\n",
       "      <td>3</td>\n",
       "      <td>Yes</td>\n",
       "      <td>No</td>\n",
       "    </tr>\n",
       "    <tr>\n",
       "      <th>2051</th>\n",
       "      <td>Female</td>\n",
       "      <td>23</td>\n",
       "      <td>3.0</td>\n",
       "      <td>1.0</td>\n",
       "      <td>Less than 5 hours</td>\n",
       "      <td>Moderate</td>\n",
       "      <td>Yes</td>\n",
       "      <td>8</td>\n",
       "      <td>3</td>\n",
       "      <td>No</td>\n",
       "      <td>Yes</td>\n",
       "    </tr>\n",
       "    <tr>\n",
       "      <th>2052</th>\n",
       "      <td>Female</td>\n",
       "      <td>24</td>\n",
       "      <td>1.0</td>\n",
       "      <td>4.0</td>\n",
       "      <td>Less than 5 hours</td>\n",
       "      <td>Moderate</td>\n",
       "      <td>Yes</td>\n",
       "      <td>4</td>\n",
       "      <td>4</td>\n",
       "      <td>No</td>\n",
       "      <td>No</td>\n",
       "    </tr>\n",
       "    <tr>\n",
       "      <th>2053</th>\n",
       "      <td>Female</td>\n",
       "      <td>56</td>\n",
       "      <td>2.0</td>\n",
       "      <td>3.0</td>\n",
       "      <td>7-8 hours</td>\n",
       "      <td>Healthy</td>\n",
       "      <td>No</td>\n",
       "      <td>4</td>\n",
       "      <td>5</td>\n",
       "      <td>Yes</td>\n",
       "      <td>No</td>\n",
       "    </tr>\n",
       "  </tbody>\n",
       "</table>\n",
       "<p>2054 rows × 11 columns</p>\n",
       "</div>"
      ],
      "text/plain": [
       "      Gender  Age  Work_Pressure  Job_Satisfaction     Sleep_Duration  \\\n",
       "0     Female   37            2.0               4.0          7-8 hours   \n",
       "1       Male   60            4.0               3.0          5-6 hours   \n",
       "2     Female   42            2.0               3.0          5-6 hours   \n",
       "3     Female   44            3.0               5.0          7-8 hours   \n",
       "4       Male   48            4.0               3.0          7-8 hours   \n",
       "...      ...  ...            ...               ...                ...   \n",
       "2049  Female   45            1.0               3.0  Less than 5 hours   \n",
       "2050    Male   25            1.0               5.0          5-6 hours   \n",
       "2051  Female   23            3.0               1.0  Less than 5 hours   \n",
       "2052  Female   24            1.0               4.0  Less than 5 hours   \n",
       "2053  Female   56            2.0               3.0          7-8 hours   \n",
       "\n",
       "     Dietary_Habits Have_you_ever_had_suicidal_thoughts_?  Work_Hours  \\\n",
       "0          Moderate                                    No           6   \n",
       "1         Unhealthy                                   Yes           0   \n",
       "2          Moderate                                    No           0   \n",
       "3           Healthy                                   Yes           1   \n",
       "4          Moderate                                   Yes           6   \n",
       "...             ...                                   ...         ...   \n",
       "2049        Healthy                                   Yes           2   \n",
       "2050        Healthy                                   Yes          12   \n",
       "2051       Moderate                                   Yes           8   \n",
       "2052       Moderate                                   Yes           4   \n",
       "2053        Healthy                                    No           4   \n",
       "\n",
       "      Financial_Stress Family_History_of_Mental_Illness Depression  \n",
       "0                    2                               No         No  \n",
       "1                    4                              Yes         No  \n",
       "2                    2                               No         No  \n",
       "3                    2                              Yes         No  \n",
       "4                    5                              Yes         No  \n",
       "...                ...                              ...        ...  \n",
       "2049                 5                              Yes         No  \n",
       "2050                 3                              Yes         No  \n",
       "2051                 3                               No        Yes  \n",
       "2052                 4                               No         No  \n",
       "2053                 5                              Yes         No  \n",
       "\n",
       "[2054 rows x 11 columns]"
      ]
     },
     "execution_count": 9,
     "metadata": {},
     "output_type": "execute_result"
    }
   ],
   "source": [
    "df"
   ]
  },
  {
   "cell_type": "code",
   "execution_count": 10,
   "id": "aabf56ad",
   "metadata": {
    "execution": {
     "iopub.execute_input": "2024-11-24T06:29:40.071583Z",
     "iopub.status.busy": "2024-11-24T06:29:40.071164Z",
     "iopub.status.idle": "2024-11-24T06:29:40.080917Z",
     "shell.execute_reply": "2024-11-24T06:29:40.079564Z"
    },
    "papermill": {
     "duration": 0.020309,
     "end_time": "2024-11-24T06:29:40.082993",
     "exception": false,
     "start_time": "2024-11-24T06:29:40.062684",
     "status": "completed"
    },
    "tags": []
   },
   "outputs": [
    {
     "data": {
      "text/plain": [
       "Financial_Stress\n",
       "2    447\n",
       "4    407\n",
       "1    407\n",
       "5    405\n",
       "3    388\n",
       "Name: count, dtype: int64"
      ]
     },
     "execution_count": 10,
     "metadata": {},
     "output_type": "execute_result"
    }
   ],
   "source": [
    "df.Financial_Stress.value_counts()"
   ]
  },
  {
   "cell_type": "code",
   "execution_count": 11,
   "id": "c6db4d54",
   "metadata": {
    "execution": {
     "iopub.execute_input": "2024-11-24T06:29:40.099256Z",
     "iopub.status.busy": "2024-11-24T06:29:40.098908Z",
     "iopub.status.idle": "2024-11-24T06:29:40.417895Z",
     "shell.execute_reply": "2024-11-24T06:29:40.416803Z"
    },
    "papermill": {
     "duration": 0.329538,
     "end_time": "2024-11-24T06:29:40.419963",
     "exception": false,
     "start_time": "2024-11-24T06:29:40.090425",
     "status": "completed"
    },
    "tags": []
   },
   "outputs": [
    {
     "name": "stderr",
     "output_type": "stream",
     "text": [
      "/opt/conda/lib/python3.10/site-packages/seaborn/_oldcore.py:1119: FutureWarning: use_inf_as_na option is deprecated and will be removed in a future version. Convert inf values to NaN before operating instead.\n",
      "  with pd.option_context('mode.use_inf_as_na', True):\n"
     ]
    },
    {
     "data": {
      "text/plain": [
       "<Axes: xlabel='Age', ylabel='Count'>"
      ]
     },
     "execution_count": 11,
     "metadata": {},
     "output_type": "execute_result"
    },
    {
     "data": {
      "image/png": "[encoded data removed]",
      "text/plain": [
       "<Figure size 640x480 with 1 Axes>"
      ]
     },
     "metadata": {},
     "output_type": "display_data"
    }
   ],
   "source": [
    "sns.histplot(df['Age'])"
   ]
  },
  {
   "cell_type": "code",
   "execution_count": 12,
   "id": "28415f07",
   "metadata": {
    "execution": {
     "iopub.execute_input": "2024-11-24T06:29:40.437018Z",
     "iopub.status.busy": "2024-11-24T06:29:40.436643Z",
     "iopub.status.idle": "2024-11-24T06:29:40.602415Z",
     "shell.execute_reply": "2024-11-24T06:29:40.601557Z"
    },
    "papermill": {
     "duration": 0.176733,
     "end_time": "2024-11-24T06:29:40.604441",
     "exception": false,
     "start_time": "2024-11-24T06:29:40.427708",
     "status": "completed"
    },
    "tags": []
   },
   "outputs": [
    {
     "name": "stderr",
     "output_type": "stream",
     "text": [
      "/opt/conda/lib/python3.10/site-packages/seaborn/_oldcore.py:1119: FutureWarning: use_inf_as_na option is deprecated and will be removed in a future version. Convert inf values to NaN before operating instead.\n",
      "  with pd.option_context('mode.use_inf_as_na', True):\n"
     ]
    },
    {
     "data": {
      "text/plain": [
       "<Axes: xlabel='Gender', ylabel='Count'>"
      ]
     },
     "execution_count": 12,
     "metadata": {},
     "output_type": "execute_result"
    },
    {
     "data": {
      "image/png": "[encoded data removed]",
      "text/plain": [
       "<Figure size 640x480 with 1 Axes>"
      ]
     },
     "metadata": {},
     "output_type": "display_data"
    }
   ],
   "source": [
    "sns.histplot(df['Gender'])"
   ]
  },
  {
   "cell_type": "markdown",
   "id": "c9020d22",
   "metadata": {
    "papermill": {
     "duration": 0.007692,
     "end_time": "2024-11-24T06:29:40.620298",
     "exception": false,
     "start_time": "2024-11-24T06:29:40.612606",
     "status": "completed"
    },
    "tags": []
   },
   "source": [
    "2. Data Cleaning"
   ]
  },
  {
   "cell_type": "code",
   "execution_count": 13,
   "id": "b122e55d",
   "metadata": {
    "execution": {
     "iopub.execute_input": "2024-11-24T06:29:40.638103Z",
     "iopub.status.busy": "2024-11-24T06:29:40.637760Z",
     "iopub.status.idle": "2024-11-24T06:29:40.646473Z",
     "shell.execute_reply": "2024-11-24T06:29:40.645565Z"
    },
    "papermill": {
     "duration": 0.020244,
     "end_time": "2024-11-24T06:29:40.648352",
     "exception": false,
     "start_time": "2024-11-24T06:29:40.628108",
     "status": "completed"
    },
    "tags": []
   },
   "outputs": [
    {
     "data": {
      "text/plain": [
       "Gender                                   0\n",
       "Age                                      0\n",
       "Work_Pressure                            0\n",
       "Job_Satisfaction                         0\n",
       "Sleep_Duration                           0\n",
       "Dietary_Habits                           0\n",
       "Have_you_ever_had_suicidal_thoughts_?    0\n",
       "Work_Hours                               0\n",
       "Financial_Stress                         0\n",
       "Family_History_of_Mental_Illness         0\n",
       "Depression                               0\n",
       "dtype: int64"
      ]
     },
     "execution_count": 13,
     "metadata": {},
     "output_type": "execute_result"
    }
   ],
   "source": [
    "df.isnull().sum()"
   ]
  },
  {
   "cell_type": "code",
   "execution_count": 14,
   "id": "294b26cb",
   "metadata": {
    "execution": {
     "iopub.execute_input": "2024-11-24T06:29:40.667217Z",
     "iopub.status.busy": "2024-11-24T06:29:40.666333Z",
     "iopub.status.idle": "2024-11-24T06:29:40.677114Z",
     "shell.execute_reply": "2024-11-24T06:29:40.676003Z"
    },
    "papermill": {
     "duration": 0.022528,
     "end_time": "2024-11-24T06:29:40.679311",
     "exception": false,
     "start_time": "2024-11-24T06:29:40.656783",
     "status": "completed"
    },
    "tags": []
   },
   "outputs": [
    {
     "data": {
      "text/plain": [
       "0"
      ]
     },
     "execution_count": 14,
     "metadata": {},
     "output_type": "execute_result"
    }
   ],
   "source": [
    "df.duplicated().sum()"
   ]
  },
  {
   "cell_type": "markdown",
   "id": "e1d0b979",
   "metadata": {
    "papermill": {
     "duration": 0.008251,
     "end_time": "2024-11-24T06:29:40.696071",
     "exception": false,
     "start_time": "2024-11-24T06:29:40.687820",
     "status": "completed"
    },
    "tags": []
   },
   "source": [
    "3. Exploratory Data Analition (EDA)"
   ]
  },
  {
   "cell_type": "code",
   "execution_count": 15,
   "id": "8535af71",
   "metadata": {
    "execution": {
     "iopub.execute_input": "2024-11-24T06:29:40.714278Z",
     "iopub.status.busy": "2024-11-24T06:29:40.713897Z",
     "iopub.status.idle": "2024-11-24T06:29:40.843969Z",
     "shell.execute_reply": "2024-11-24T06:29:40.842915Z"
    },
    "papermill": {
     "duration": 0.143896,
     "end_time": "2024-11-24T06:29:40.848110",
     "exception": false,
     "start_time": "2024-11-24T06:29:40.704214",
     "status": "completed"
    },
    "tags": []
   },
   "outputs": [
    {
     "data": {
      "image/png": "[encoded data removed]",
      "text/plain": [
       "<Figure size 640x480 with 1 Axes>"
      ]
     },
     "metadata": {},
     "output_type": "display_data"
    }
   ],
   "source": [
    "sns.set_theme(style='ticks')\n",
    "sns.countplot(x='Depression', data=df, palette='flare')\n",
    "plt.xlabel(\"Depresi\")\n",
    "plt.ylabel(\"Total_Jumlah\")\n",
    "plt.show()"
   ]
  },
  {
   "cell_type": "code",
   "execution_count": 16,
   "id": "268347d8",
   "metadata": {
    "execution": {
     "iopub.execute_input": "2024-11-24T06:29:40.885237Z",
     "iopub.status.busy": "2024-11-24T06:29:40.884357Z",
     "iopub.status.idle": "2024-11-24T06:29:41.024946Z",
     "shell.execute_reply": "2024-11-24T06:29:41.023890Z"
    },
    "papermill": {
     "duration": 0.156158,
     "end_time": "2024-11-24T06:29:41.029247",
     "exception": false,
     "start_time": "2024-11-24T06:29:40.873089",
     "status": "completed"
    },
    "tags": []
   },
   "outputs": [
    {
     "data": {
      "image/png": "[encoded data removed]",
      "text/plain": [
       "<Figure size 640x480 with 1 Axes>"
      ]
     },
     "metadata": {},
     "output_type": "display_data"
    }
   ],
   "source": [
    "sns.set_theme(style='darkgrid')\n",
    "sns.countplot(x='Gender', data=df, palette='rocket')\n",
    "plt.xlabel(\"Gender\")\n",
    "plt.ylabel(\"Total_Jumlah\")\n",
    "plt.show()"
   ]
  },
  {
   "cell_type": "code",
   "execution_count": 17,
   "id": "1c43c255",
   "metadata": {
    "execution": {
     "iopub.execute_input": "2024-11-24T06:29:41.060013Z",
     "iopub.status.busy": "2024-11-24T06:29:41.059302Z",
     "iopub.status.idle": "2024-11-24T06:29:41.549826Z",
     "shell.execute_reply": "2024-11-24T06:29:41.548893Z"
    },
    "papermill": {
     "duration": 0.502705,
     "end_time": "2024-11-24T06:29:41.551929",
     "exception": false,
     "start_time": "2024-11-24T06:29:41.049224",
     "status": "completed"
    },
    "tags": []
   },
   "outputs": [
    {
     "data": {
      "image/png": "[encoded data removed]",
      "text/plain": [
       "<Figure size 640x480 with 1 Axes>"
      ]
     },
     "metadata": {},
     "output_type": "display_data"
    }
   ],
   "source": [
    "sns.set_theme(style='whitegrid')\n",
    "sns.scatterplot(x='Age', y='Gender', data=df, hue='Age', palette='coolwarm')\n",
    "plt.xlabel(\"Age\")\n",
    "plt.ylabel(\"Gender\")\n",
    "plt.show()"
   ]
  },
  {
   "cell_type": "markdown",
   "id": "a4c11abf",
   "metadata": {
    "papermill": {
     "duration": 0.009158,
     "end_time": "2024-11-24T06:29:41.571017",
     "exception": false,
     "start_time": "2024-11-24T06:29:41.561859",
     "status": "completed"
    },
    "tags": []
   },
   "source": [
    "4. Data Preparation"
   ]
  },
  {
   "cell_type": "code",
   "execution_count": 18,
   "id": "1c92e9f1",
   "metadata": {
    "execution": {
     "iopub.execute_input": "2024-11-24T06:29:41.591068Z",
     "iopub.status.busy": "2024-11-24T06:29:41.590666Z",
     "iopub.status.idle": "2024-11-24T06:29:41.607191Z",
     "shell.execute_reply": "2024-11-24T06:29:41.606229Z"
    },
    "papermill": {
     "duration": 0.029058,
     "end_time": "2024-11-24T06:29:41.609224",
     "exception": false,
     "start_time": "2024-11-24T06:29:41.580166",
     "status": "completed"
    },
    "tags": []
   },
   "outputs": [
    {
     "name": "stdout",
     "output_type": "stream",
     "text": [
      "Index(['Gender', 'Age', 'Work_Pressure', 'Job_Satisfaction', 'Sleep_Duration',\n",
      "       'Dietary_Habits', 'Have_you_ever_had_suicidal_thoughts_?', 'Work_Hours',\n",
      "       'Financial_Stress', 'Family_History_of_Mental_Illness', 'Depression'],\n",
      "      dtype='object')\n"
     ]
    },
    {
     "data": {
      "text/html": [
       "<div>\n",
       "<style scoped>\n",
       "    .dataframe tbody tr th:only-of-type {\n",
       "        vertical-align: middle;\n",
       "    }\n",
       "\n",
       "    .dataframe tbody tr th {\n",
       "        vertical-align: top;\n",
       "    }\n",
       "\n",
       "    .dataframe thead th {\n",
       "        text-align: right;\n",
       "    }\n",
       "</style>\n",
       "<table border=\"1\" class=\"dataframe\">\n",
       "  <thead>\n",
       "    <tr style=\"text-align: right;\">\n",
       "      <th></th>\n",
       "      <th>Gender</th>\n",
       "      <th>Age</th>\n",
       "      <th>Work_Pressure</th>\n",
       "      <th>Job_Satisfaction</th>\n",
       "      <th>Sleep_Duration</th>\n",
       "      <th>Dietary_Habits</th>\n",
       "      <th>Have_you_ever_had_suicidal_thoughts_?</th>\n",
       "      <th>Work_Hours</th>\n",
       "      <th>Financial_Stress</th>\n",
       "      <th>Family_History_of_Mental_Illness</th>\n",
       "      <th>Depression</th>\n",
       "    </tr>\n",
       "  </thead>\n",
       "  <tbody>\n",
       "    <tr>\n",
       "      <th>0</th>\n",
       "      <td>Female</td>\n",
       "      <td>37</td>\n",
       "      <td>2.0</td>\n",
       "      <td>4.0</td>\n",
       "      <td>7-8 hours</td>\n",
       "      <td>Moderate</td>\n",
       "      <td>No</td>\n",
       "      <td>6</td>\n",
       "      <td>2</td>\n",
       "      <td>No</td>\n",
       "      <td>No</td>\n",
       "    </tr>\n",
       "    <tr>\n",
       "      <th>1</th>\n",
       "      <td>Male</td>\n",
       "      <td>60</td>\n",
       "      <td>4.0</td>\n",
       "      <td>3.0</td>\n",
       "      <td>5-6 hours</td>\n",
       "      <td>Unhealthy</td>\n",
       "      <td>Yes</td>\n",
       "      <td>0</td>\n",
       "      <td>4</td>\n",
       "      <td>Yes</td>\n",
       "      <td>No</td>\n",
       "    </tr>\n",
       "    <tr>\n",
       "      <th>2</th>\n",
       "      <td>Female</td>\n",
       "      <td>42</td>\n",
       "      <td>2.0</td>\n",
       "      <td>3.0</td>\n",
       "      <td>5-6 hours</td>\n",
       "      <td>Moderate</td>\n",
       "      <td>No</td>\n",
       "      <td>0</td>\n",
       "      <td>2</td>\n",
       "      <td>No</td>\n",
       "      <td>No</td>\n",
       "    </tr>\n",
       "    <tr>\n",
       "      <th>3</th>\n",
       "      <td>Female</td>\n",
       "      <td>44</td>\n",
       "      <td>3.0</td>\n",
       "      <td>5.0</td>\n",
       "      <td>7-8 hours</td>\n",
       "      <td>Healthy</td>\n",
       "      <td>Yes</td>\n",
       "      <td>1</td>\n",
       "      <td>2</td>\n",
       "      <td>Yes</td>\n",
       "      <td>No</td>\n",
       "    </tr>\n",
       "    <tr>\n",
       "      <th>4</th>\n",
       "      <td>Male</td>\n",
       "      <td>48</td>\n",
       "      <td>4.0</td>\n",
       "      <td>3.0</td>\n",
       "      <td>7-8 hours</td>\n",
       "      <td>Moderate</td>\n",
       "      <td>Yes</td>\n",
       "      <td>6</td>\n",
       "      <td>5</td>\n",
       "      <td>Yes</td>\n",
       "      <td>No</td>\n",
       "    </tr>\n",
       "  </tbody>\n",
       "</table>\n",
       "</div>"
      ],
      "text/plain": [
       "   Gender  Age  Work_Pressure  Job_Satisfaction Sleep_Duration Dietary_Habits  \\\n",
       "0  Female   37            2.0               4.0      7-8 hours       Moderate   \n",
       "1    Male   60            4.0               3.0      5-6 hours      Unhealthy   \n",
       "2  Female   42            2.0               3.0      5-6 hours       Moderate   \n",
       "3  Female   44            3.0               5.0      7-8 hours        Healthy   \n",
       "4    Male   48            4.0               3.0      7-8 hours       Moderate   \n",
       "\n",
       "  Have_you_ever_had_suicidal_thoughts_?  Work_Hours  Financial_Stress  \\\n",
       "0                                    No           6                 2   \n",
       "1                                   Yes           0                 4   \n",
       "2                                    No           0                 2   \n",
       "3                                   Yes           1                 2   \n",
       "4                                   Yes           6                 5   \n",
       "\n",
       "  Family_History_of_Mental_Illness Depression  \n",
       "0                               No         No  \n",
       "1                              Yes         No  \n",
       "2                               No         No  \n",
       "3                              Yes         No  \n",
       "4                              Yes         No  "
      ]
     },
     "execution_count": 18,
     "metadata": {},
     "output_type": "execute_result"
    }
   ],
   "source": [
    "df.columns = df.columns.str.replace(' ', '_')\n",
    "print(df.columns)\n",
    "df.head()"
   ]
  },
  {
   "cell_type": "code",
   "execution_count": 19,
   "id": "5ff33017",
   "metadata": {
    "execution": {
     "iopub.execute_input": "2024-11-24T06:29:41.630672Z",
     "iopub.status.busy": "2024-11-24T06:29:41.629790Z",
     "iopub.status.idle": "2024-11-24T06:29:41.642290Z",
     "shell.execute_reply": "2024-11-24T06:29:41.641272Z"
    },
    "papermill": {
     "duration": 0.025453,
     "end_time": "2024-11-24T06:29:41.644394",
     "exception": false,
     "start_time": "2024-11-24T06:29:41.618941",
     "status": "completed"
    },
    "tags": []
   },
   "outputs": [
    {
     "name": "stdout",
     "output_type": "stream",
     "text": [
      "<class 'pandas.core.frame.DataFrame'>\n",
      "RangeIndex: 2054 entries, 0 to 2053\n",
      "Data columns (total 11 columns):\n",
      " #   Column                                 Non-Null Count  Dtype  \n",
      "---  ------                                 --------------  -----  \n",
      " 0   Gender                                 2054 non-null   object \n",
      " 1   Age                                    2054 non-null   int64  \n",
      " 2   Work_Pressure                          2054 non-null   float64\n",
      " 3   Job_Satisfaction                       2054 non-null   float64\n",
      " 4   Sleep_Duration                         2054 non-null   object \n",
      " 5   Dietary_Habits                         2054 non-null   object \n",
      " 6   Have_you_ever_had_suicidal_thoughts_?  2054 non-null   object \n",
      " 7   Work_Hours                             2054 non-null   int64  \n",
      " 8   Financial_Stress                       2054 non-null   int64  \n",
      " 9   Family_History_of_Mental_Illness       2054 non-null   object \n",
      " 10  Depression                             2054 non-null   object \n",
      "dtypes: float64(2), int64(3), object(6)\n",
      "memory usage: 176.6+ KB\n"
     ]
    }
   ],
   "source": [
    "df.info()"
   ]
  },
  {
   "cell_type": "code",
   "execution_count": 20,
   "id": "b7a7774c",
   "metadata": {
    "execution": {
     "iopub.execute_input": "2024-11-24T06:29:41.665782Z",
     "iopub.status.busy": "2024-11-24T06:29:41.665369Z",
     "iopub.status.idle": "2024-11-24T06:29:41.677004Z",
     "shell.execute_reply": "2024-11-24T06:29:41.675999Z"
    },
    "papermill": {
     "duration": 0.024517,
     "end_time": "2024-11-24T06:29:41.678845",
     "exception": false,
     "start_time": "2024-11-24T06:29:41.654328",
     "status": "completed"
    },
    "tags": []
   },
   "outputs": [],
   "source": [
    "from sklearn.preprocessing import LabelEncoder\n",
    "\n",
    "label_encoder = LabelEncoder()\n",
    "df['Gender'] = label_encoder.fit_transform(df['Gender'])\n",
    "df['Sleep_Duration'] = label_encoder.fit_transform(df['Sleep_Duration'])\n",
    "df['Dietary_Habits'] = label_encoder.fit_transform(df['Dietary_Habits'])\n",
    "df['Have_you_ever_had_suicidal_thoughts_?'] = label_encoder.fit_transform(df['Have_you_ever_had_suicidal_thoughts_?'])\n",
    "df['Family_History_of_Mental_Illness'] = label_encoder.fit_transform(df['Family_History_of_Mental_Illness'])\n",
    "df['Depression'] = label_encoder.fit_transform(df['Depression'])"
   ]
  },
  {
   "cell_type": "code",
   "execution_count": 21,
   "id": "5563b4ab",
   "metadata": {
    "execution": {
     "iopub.execute_input": "2024-11-24T06:29:41.700608Z",
     "iopub.status.busy": "2024-11-24T06:29:41.700189Z",
     "iopub.status.idle": "2024-11-24T06:29:41.713600Z",
     "shell.execute_reply": "2024-11-24T06:29:41.712555Z"
    },
    "papermill": {
     "duration": 0.0266,
     "end_time": "2024-11-24T06:29:41.715476",
     "exception": false,
     "start_time": "2024-11-24T06:29:41.688876",
     "status": "completed"
    },
    "tags": []
   },
   "outputs": [
    {
     "data": {
      "text/html": [
       "<div>\n",
       "<style scoped>\n",
       "    .dataframe tbody tr th:only-of-type {\n",
       "        vertical-align: middle;\n",
       "    }\n",
       "\n",
       "    .dataframe tbody tr th {\n",
       "        vertical-align: top;\n",
       "    }\n",
       "\n",
       "    .dataframe thead th {\n",
       "        text-align: right;\n",
       "    }\n",
       "</style>\n",
       "<table border=\"1\" class=\"dataframe\">\n",
       "  <thead>\n",
       "    <tr style=\"text-align: right;\">\n",
       "      <th></th>\n",
       "      <th>Gender</th>\n",
       "      <th>Age</th>\n",
       "      <th>Work_Pressure</th>\n",
       "      <th>Job_Satisfaction</th>\n",
       "      <th>Sleep_Duration</th>\n",
       "      <th>Dietary_Habits</th>\n",
       "      <th>Have_you_ever_had_suicidal_thoughts_?</th>\n",
       "      <th>Work_Hours</th>\n",
       "      <th>Financial_Stress</th>\n",
       "      <th>Family_History_of_Mental_Illness</th>\n",
       "      <th>Depression</th>\n",
       "    </tr>\n",
       "  </thead>\n",
       "  <tbody>\n",
       "    <tr>\n",
       "      <th>0</th>\n",
       "      <td>0</td>\n",
       "      <td>37</td>\n",
       "      <td>2.0</td>\n",
       "      <td>4.0</td>\n",
       "      <td>1</td>\n",
       "      <td>1</td>\n",
       "      <td>0</td>\n",
       "      <td>6</td>\n",
       "      <td>2</td>\n",
       "      <td>0</td>\n",
       "      <td>0</td>\n",
       "    </tr>\n",
       "    <tr>\n",
       "      <th>1</th>\n",
       "      <td>1</td>\n",
       "      <td>60</td>\n",
       "      <td>4.0</td>\n",
       "      <td>3.0</td>\n",
       "      <td>0</td>\n",
       "      <td>2</td>\n",
       "      <td>1</td>\n",
       "      <td>0</td>\n",
       "      <td>4</td>\n",
       "      <td>1</td>\n",
       "      <td>0</td>\n",
       "    </tr>\n",
       "    <tr>\n",
       "      <th>2</th>\n",
       "      <td>0</td>\n",
       "      <td>42</td>\n",
       "      <td>2.0</td>\n",
       "      <td>3.0</td>\n",
       "      <td>0</td>\n",
       "      <td>1</td>\n",
       "      <td>0</td>\n",
       "      <td>0</td>\n",
       "      <td>2</td>\n",
       "      <td>0</td>\n",
       "      <td>0</td>\n",
       "    </tr>\n",
       "    <tr>\n",
       "      <th>3</th>\n",
       "      <td>0</td>\n",
       "      <td>44</td>\n",
       "      <td>3.0</td>\n",
       "      <td>5.0</td>\n",
       "      <td>1</td>\n",
       "      <td>0</td>\n",
       "      <td>1</td>\n",
       "      <td>1</td>\n",
       "      <td>2</td>\n",
       "      <td>1</td>\n",
       "      <td>0</td>\n",
       "    </tr>\n",
       "    <tr>\n",
       "      <th>4</th>\n",
       "      <td>1</td>\n",
       "      <td>48</td>\n",
       "      <td>4.0</td>\n",
       "      <td>3.0</td>\n",
       "      <td>1</td>\n",
       "      <td>1</td>\n",
       "      <td>1</td>\n",
       "      <td>6</td>\n",
       "      <td>5</td>\n",
       "      <td>1</td>\n",
       "      <td>0</td>\n",
       "    </tr>\n",
       "  </tbody>\n",
       "</table>\n",
       "</div>"
      ],
      "text/plain": [
       "   Gender  Age  Work_Pressure  Job_Satisfaction  Sleep_Duration  \\\n",
       "0       0   37            2.0               4.0               1   \n",
       "1       1   60            4.0               3.0               0   \n",
       "2       0   42            2.0               3.0               0   \n",
       "3       0   44            3.0               5.0               1   \n",
       "4       1   48            4.0               3.0               1   \n",
       "\n",
       "   Dietary_Habits  Have_you_ever_had_suicidal_thoughts_?  Work_Hours  \\\n",
       "0               1                                      0           6   \n",
       "1               2                                      1           0   \n",
       "2               1                                      0           0   \n",
       "3               0                                      1           1   \n",
       "4               1                                      1           6   \n",
       "\n",
       "   Financial_Stress  Family_History_of_Mental_Illness  Depression  \n",
       "0                 2                                 0           0  \n",
       "1                 4                                 1           0  \n",
       "2                 2                                 0           0  \n",
       "3                 2                                 1           0  \n",
       "4                 5                                 1           0  "
      ]
     },
     "execution_count": 21,
     "metadata": {},
     "output_type": "execute_result"
    }
   ],
   "source": [
    "df.head()"
   ]
  },
  {
   "cell_type": "code",
   "execution_count": 22,
   "id": "6397b57b",
   "metadata": {
    "execution": {
     "iopub.execute_input": "2024-11-24T06:29:41.738448Z",
     "iopub.status.busy": "2024-11-24T06:29:41.737561Z",
     "iopub.status.idle": "2024-11-24T06:29:41.744818Z",
     "shell.execute_reply": "2024-11-24T06:29:41.743668Z"
    },
    "papermill": {
     "duration": 0.021251,
     "end_time": "2024-11-24T06:29:41.746805",
     "exception": false,
     "start_time": "2024-11-24T06:29:41.725554",
     "status": "completed"
    },
    "tags": []
   },
   "outputs": [
    {
     "name": "stdout",
     "output_type": "stream",
     "text": [
      "x =   (2054, 10)\n",
      "y =   (2054,)\n"
     ]
    }
   ],
   "source": [
    "x = df.drop(columns = ['Depression'])\n",
    "y = df['Depression']\n",
    "\n",
    "print('x =  ', x.shape)\n",
    "print('y =  ', y.shape)"
   ]
  },
  {
   "cell_type": "code",
   "execution_count": 23,
   "id": "c740f6b5",
   "metadata": {
    "execution": {
     "iopub.execute_input": "2024-11-24T06:29:41.768438Z",
     "iopub.status.busy": "2024-11-24T06:29:41.768036Z",
     "iopub.status.idle": "2024-11-24T06:29:41.777615Z",
     "shell.execute_reply": "2024-11-24T06:29:41.776280Z"
    },
    "papermill": {
     "duration": 0.023384,
     "end_time": "2024-11-24T06:29:41.780014",
     "exception": false,
     "start_time": "2024-11-24T06:29:41.756630",
     "status": "completed"
    },
    "tags": []
   },
   "outputs": [],
   "source": [
    "x_train, x_test, y_train,  y_test = train_test_split(x, y, test_size=0.2,random_state= 42)"
   ]
  },
  {
   "cell_type": "code",
   "execution_count": 24,
   "id": "16749499",
   "metadata": {
    "execution": {
     "iopub.execute_input": "2024-11-24T06:29:41.802427Z",
     "iopub.status.busy": "2024-11-24T06:29:41.802081Z",
     "iopub.status.idle": "2024-11-24T06:29:41.807704Z",
     "shell.execute_reply": "2024-11-24T06:29:41.806705Z"
    },
    "papermill": {
     "duration": 0.019534,
     "end_time": "2024-11-24T06:29:41.810135",
     "exception": false,
     "start_time": "2024-11-24T06:29:41.790601",
     "status": "completed"
    },
    "tags": []
   },
   "outputs": [
    {
     "name": "stdout",
     "output_type": "stream",
     "text": [
      "x_train:  (1643, 10)\n",
      "y_train:  (1643,)\n",
      "x_test:  (411, 10)\n",
      "y_test:  (411,)\n"
     ]
    }
   ],
   "source": [
    "print('x_train: ', x_train.shape)\n",
    "print('y_train: ', y_train.shape)\n",
    "print('x_test: ', x_test.shape)\n",
    "print('y_test: ', y_test.shape)"
   ]
  },
  {
   "cell_type": "markdown",
   "id": "f1b9cf62",
   "metadata": {
    "papermill": {
     "duration": 0.009977,
     "end_time": "2024-11-24T06:29:41.830225",
     "exception": false,
     "start_time": "2024-11-24T06:29:41.820248",
     "status": "completed"
    },
    "tags": []
   },
   "source": [
    "4. Modelling"
   ]
  },
  {
   "cell_type": "code",
   "execution_count": 25,
   "id": "73ae3e50",
   "metadata": {
    "execution": {
     "iopub.execute_input": "2024-11-24T06:29:41.852022Z",
     "iopub.status.busy": "2024-11-24T06:29:41.851647Z",
     "iopub.status.idle": "2024-11-24T06:29:41.893668Z",
     "shell.execute_reply": "2024-11-24T06:29:41.892549Z"
    },
    "papermill": {
     "duration": 0.055492,
     "end_time": "2024-11-24T06:29:41.895819",
     "exception": false,
     "start_time": "2024-11-24T06:29:41.840327",
     "status": "completed"
    },
    "tags": []
   },
   "outputs": [
    {
     "name": "stdout",
     "output_type": "stream",
     "text": [
      "              precision    recall  f1-score   support\n",
      "\n",
      "           0       0.99      0.94      0.96       385\n",
      "           1       0.49      0.81      0.61        26\n",
      "\n",
      "    accuracy                           0.93       411\n",
      "   macro avg       0.74      0.88      0.79       411\n",
      "weighted avg       0.95      0.93      0.94       411\n",
      "\n",
      "Akurasi KNN: 93.43%\n"
     ]
    }
   ],
   "source": [
    "knn = KNeighborsClassifier(n_neighbors= 5)\n",
    "\n",
    "knn.fit(x_train, y_train)\n",
    "\n",
    "y_pred = knn.predict(x_test)\n",
    "KNN_acc = accuracy_score(y_pred, y_test)\n",
    "\n",
    "print(classification_report(y_pred, y_test))\n",
    "print(\"Akurasi KNN: {:.2f}%\".format(KNN_acc*100))"
   ]
  },
  {
   "cell_type": "code",
   "execution_count": 26,
   "id": "64d4b413",
   "metadata": {
    "execution": {
     "iopub.execute_input": "2024-11-24T06:29:41.918322Z",
     "iopub.status.busy": "2024-11-24T06:29:41.917957Z",
     "iopub.status.idle": "2024-11-24T06:29:41.932447Z",
     "shell.execute_reply": "2024-11-24T06:29:41.931474Z"
    },
    "papermill": {
     "duration": 0.028254,
     "end_time": "2024-11-24T06:29:41.934334",
     "exception": false,
     "start_time": "2024-11-24T06:29:41.906080",
     "status": "completed"
    },
    "tags": []
   },
   "outputs": [
    {
     "data": {
      "text/html": [
       "<div>\n",
       "<style scoped>\n",
       "    .dataframe tbody tr th:only-of-type {\n",
       "        vertical-align: middle;\n",
       "    }\n",
       "\n",
       "    .dataframe tbody tr th {\n",
       "        vertical-align: top;\n",
       "    }\n",
       "\n",
       "    .dataframe thead th {\n",
       "        text-align: right;\n",
       "    }\n",
       "</style>\n",
       "<table border=\"1\" class=\"dataframe\">\n",
       "  <thead>\n",
       "    <tr style=\"text-align: right;\">\n",
       "      <th></th>\n",
       "      <th>Gender</th>\n",
       "      <th>Age</th>\n",
       "      <th>Work_Pressure</th>\n",
       "      <th>Job_Satisfaction</th>\n",
       "      <th>Sleep_Duration</th>\n",
       "      <th>Dietary_Habits</th>\n",
       "      <th>Have_you_ever_had_suicidal_thoughts_?</th>\n",
       "      <th>Work_Hours</th>\n",
       "      <th>Financial_Stress</th>\n",
       "      <th>Family_History_of_Mental_Illness</th>\n",
       "    </tr>\n",
       "  </thead>\n",
       "  <tbody>\n",
       "    <tr>\n",
       "      <th>0</th>\n",
       "      <td>1</td>\n",
       "      <td>20</td>\n",
       "      <td>2.0</td>\n",
       "      <td>4.0</td>\n",
       "      <td>0</td>\n",
       "      <td>1</td>\n",
       "      <td>0</td>\n",
       "      <td>3</td>\n",
       "      <td>2</td>\n",
       "      <td>1</td>\n",
       "    </tr>\n",
       "  </tbody>\n",
       "</table>\n",
       "</div>"
      ],
      "text/plain": [
       "   Gender  Age  Work_Pressure  Job_Satisfaction  Sleep_Duration  \\\n",
       "0       1   20            2.0               4.0               0   \n",
       "\n",
       "   Dietary_Habits  Have_you_ever_had_suicidal_thoughts_?  Work_Hours  \\\n",
       "0               1                                      0           3   \n",
       "\n",
       "   Financial_Stress  Family_History_of_Mental_Illness  \n",
       "0                 2                                 1  "
      ]
     },
     "execution_count": 26,
     "metadata": {},
     "output_type": "execute_result"
    }
   ],
   "source": [
    "testing = {\n",
    "    'Gender' : [1],\n",
    "    'Age' : [20],\n",
    "    'Work_Pressure' : [2.0],\n",
    "    'Job_Satisfaction' : [4.0],\n",
    "    'Sleep_Duration' : [0],\n",
    "    'Dietary_Habits' : [1],\n",
    "    'Have_you_ever_had_suicidal_thoughts_?' : [0],\n",
    "    'Work_Hours' : [3],\n",
    "    'Financial_Stress' : [2],\n",
    "    'Family_History_of_Mental_Illness' : [1]\n",
    "}\n",
    "\n",
    "testing = pd.DataFrame(testing)\n",
    "testing"
   ]
  },
  {
   "cell_type": "code",
   "execution_count": 27,
   "id": "59dc82d8",
   "metadata": {
    "execution": {
     "iopub.execute_input": "2024-11-24T06:29:41.957609Z",
     "iopub.status.busy": "2024-11-24T06:29:41.957210Z",
     "iopub.status.idle": "2024-11-24T06:29:41.966876Z",
     "shell.execute_reply": "2024-11-24T06:29:41.965812Z"
    },
    "papermill": {
     "duration": 0.02431,
     "end_time": "2024-11-24T06:29:41.968907",
     "exception": false,
     "start_time": "2024-11-24T06:29:41.944597",
     "status": "completed"
    },
    "tags": []
   },
   "outputs": [
    {
     "name": "stdout",
     "output_type": "stream",
     "text": [
      "Hasil Prediksi dari Tingkat Depresi Saya:  [0]\n"
     ]
    }
   ],
   "source": [
    "pred_coba = knn.predict(testing)\n",
    "print('Hasil Prediksi dari Tingkat Depresi Saya: ', pred_coba)"
   ]
  }
 ],
 "metadata": {
  "kaggle": {
   "accelerator": "none",
   "dataSources": [
    {
     "datasetId": 6125308,
     "sourceId": 9958890,
     "sourceType": "datasetVersion"
    }
   ],
   "dockerImageVersionId": 30786,
   "isGpuEnabled": false,
   "isInternetEnabled": true,
   "language": "python",
   "sourceType": "notebook"
  },
  "kernelspec": {
   "display_name": "Python 3",
   "language": "python",
   "name": "python3"
  },
  "language_info": {
   "codemirror_mode": {
    "name": "ipython",
    "version": 3
   },
   "file_extension": ".py",
   "mimetype": "text/x-python",
   "name": "python",
   "nbconvert_exporter": "python",
   "pygments_lexer": "ipython3",
   "version": "3.10.14"
  },
  "papermill": {
   "default_parameters": {},
   "duration": 8.154865,
   "end_time": "2024-11-24T06:29:42.600042",
   "environment_variables": {},
   "exception": null,
   "input_path": "__notebook__.ipynb",
   "output_path": "__notebook__.ipynb",
   "parameters": {},
   "start_time": "2024-11-24T06:29:34.445177",
   "version": "2.6.0"
  }
 },
 "nbformat": 4,
 "nbformat_minor": 5
}
